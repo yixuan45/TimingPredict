{
 "cells": [
  {
   "cell_type": "code",
   "id": "initial_id",
   "metadata": {
    "collapsed": true,
    "ExecuteTime": {
     "end_time": "2025-07-07T09:55:36.012391Z",
     "start_time": "2025-07-07T09:55:32.742348Z"
    }
   },
   "source": [
    "import torch\n",
    "import torch.nn.functional as F\n",
    "from sklearn.datasets import make_blobs\n",
    "import matplotlib.pyplot as plt\n",
    "import numpy as np\n",
    "\n",
    "torch.manual_seed(1024)"
   ],
   "outputs": [
    {
     "data": {
      "text/plain": [
       "<torch._C.Generator at 0x2606ac407b0>"
      ]
     },
     "execution_count": 1,
     "metadata": {},
     "output_type": "execute_result"
    }
   ],
   "execution_count": 1
  },
  {
   "metadata": {
    "ExecuteTime": {
     "end_time": "2025-07-07T09:55:36.198434Z",
     "start_time": "2025-07-07T09:55:36.184148Z"
    }
   },
   "cell_type": "code",
   "source": [
    "class Linear:\n",
    "    # input:(B,in_features)\n",
    "    # output:(B,out_features)\n",
    "    def __init__(self, in_features, out_features, bias=True):\n",
    "        # 对于模型参数的初始化，故意没有做优化\n",
    "        self.weight = torch.randn((in_features, out_features), requires_grad=True)  # (in_features,out_features)\n",
    "        if bias:\n",
    "            self.bias = torch.randn(out_features, requires_grad=True)  # (out_features)\n",
    "        else:\n",
    "            self.bias = None\n",
    "\n",
    "    def __call__(self, x):  # 方法让类的实例可以像函数一样被调用\n",
    "        # x:  (B,in_features)\n",
    "        # self.weight:(in_features,out_features)\n",
    "        self.out = x @ self.weight\n",
    "        if self.bias is not None:\n",
    "            self.out += self.bias\n",
    "        return self.out\n",
    "\n",
    "    def parameters(self):\n",
    "        # 返回模型参数\n",
    "        if self.bias is not None:\n",
    "            return [self.weight, self.bias]\n",
    "        return self.weight"
   ],
   "id": "a990ab0015e38088",
   "outputs": [],
   "execution_count": 2
  },
  {
   "metadata": {
    "ExecuteTime": {
     "end_time": "2025-07-07T09:55:36.229599Z",
     "start_time": "2025-07-07T09:55:36.215451Z"
    }
   },
   "cell_type": "code",
   "source": [
    "class Sigmoid:\n",
    "    def __call__(self, x):\n",
    "        self.out = torch.sigmoid(x)\n",
    "        return self.out\n",
    "\n",
    "    @staticmethod\n",
    "    def parameters():\n",
    "        return []"
   ],
   "id": "81d8688393563c0",
   "outputs": [],
   "execution_count": 3
  },
  {
   "metadata": {
    "ExecuteTime": {
     "end_time": "2025-07-07T09:56:29.135273Z",
     "start_time": "2025-07-07T09:56:29.123306Z"
    }
   },
   "cell_type": "code",
   "source": [
    "class Sequential:\n",
    "    def __init__(self, layers):\n",
    "        # layers表示的模型组件，比如线性模型，比如sigmoid\n",
    "        self.layers = layers\n",
    "\n",
    "    def __call__(self, x):\n",
    "        for l in self.layers:\n",
    "            x = l(x)\n",
    "        self.out = x\n",
    "        return self.out\n",
    "\n",
    "    def parameters(self):\n",
    "        # k=[]\n",
    "        # for layer in self.layers():\n",
    "        #     for p in layer.parameters():\n",
    "        #          k.append(p)\n",
    "        return [p for layer in self.layers for p in layer.parameters()]\n",
    "\n",
    "    def predict_proba(self, x):\n",
    "        # 计算概率预测\n",
    "        if isinstance(x, np.ndarray):\n",
    "            x = torch.tensor(x).float()\n",
    "        logits = self(x)  # 等价于 self.__call__(x)\n",
    "        self.prob = F.softmax(logits, dim=-1).detach().numpy()\n",
    "        return self.prob"
   ],
   "id": "2a2369884bb12503",
   "outputs": [],
   "execution_count": 10
  },
  {
   "metadata": {
    "ExecuteTime": {
     "end_time": "2025-07-07T09:55:36.291524Z",
     "start_time": "2025-07-07T09:55:36.276562Z"
    }
   },
   "cell_type": "code",
   "source": [
    "# x:(B,2)\n",
    "# mlp:[4,4,2]\n",
    "model = Sequential([\n",
    "    Linear(2, 4), Sigmoid(),  # （B，4）\n",
    "    Linear(4, 4), Sigmoid(),  # （B，4）\n",
    "    Linear(4, 2)  # （B，2）\n",
    "])\n",
    "x = torch.randn(3, 2)\n",
    "model(x)"
   ],
   "id": "a2b92e7b63339d5c",
   "outputs": [
    {
     "data": {
      "text/plain": [
       "tensor([[-0.6104, -2.2072],\n",
       "        [-0.5949, -2.1857],\n",
       "        [-0.3821, -2.1816]], grad_fn=<AddBackward0>)"
      ]
     },
     "execution_count": 5,
     "metadata": {},
     "output_type": "execute_result"
    }
   ],
   "execution_count": 5
  },
  {
   "metadata": {
    "ExecuteTime": {
     "end_time": "2025-07-07T09:55:36.369195Z",
     "start_time": "2025-07-07T09:55:36.354234Z"
    }
   },
   "cell_type": "code",
   "source": "print(model.predict_proba(x))",
   "id": "52a32b876c0bf438",
   "outputs": [
    {
     "name": "stdout",
     "output_type": "stream",
     "text": [
      "[[0.8315643  0.16843568]\n",
      " [0.8307276  0.16927248]\n",
      " [0.85809493 0.14190508]]\n"
     ]
    }
   ],
   "execution_count": 6
  },
  {
   "metadata": {
    "ExecuteTime": {
     "end_time": "2025-07-07T09:55:36.463940Z",
     "start_time": "2025-07-07T09:55:36.448981Z"
    }
   },
   "cell_type": "code",
   "source": [
    "def draw_data(data):\n",
    "    \"\"\"\n",
    "    数据可视化\n",
    "    \"\"\"\n",
    "    fig = plt.figure(figsize=(5, 5))\n",
    "    ax = fig.add_subplot(1, 1, 1)\n",
    "    x, y = data\n",
    "    label1 = x[y > 0]\n",
    "    ax.scatter(label1[:, 0], label1[:, 1], marker='o')\n",
    "    label0 = x[y == 0]\n",
    "    ax.scatter(label0[:, 0], label0[:, 1], marker='^', color='k')\n",
    "    return ax\n",
    "\n",
    "\n",
    "def draw_model(ax, model):\n",
    "    \"\"\"\n",
    "    将模型的分离超平面可视化\n",
    "    \"\"\"\n",
    "    x1 = np.linspace(ax.get_xlim()[0], ax.get_xlim()[1], 100)\n",
    "    x2 = np.linspace(ax.get_ylim()[0], ax.get_ylim()[1], 100)\n",
    "    x1, x2 = np.meshgrid(x1, x2)\n",
    "    y = model.predict_proba(np.c_[x1.ravel(), x2.ravel()])[:, 1]\n",
    "    y = y.reshape(x1.shape)\n",
    "    ax.contourf(x1, x2, y, levels=[0, 0.5], colors=['gray'], alpha=0.4)\n",
    "    return ax"
   ],
   "id": "2c470099163d3b9d",
   "outputs": [],
   "execution_count": 7
  },
  {
   "metadata": {
    "ExecuteTime": {
     "end_time": "2025-07-07T09:55:36.649155Z",
     "start_time": "2025-07-07T09:55:36.496853Z"
    }
   },
   "cell_type": "code",
   "source": [
    "from sklearn.datasets import make_moons\n",
    "\n",
    "data = make_moons(200, noise=0.05)\n",
    "draw_data(data)"
   ],
   "id": "5e8e6bddc1267af1",
   "outputs": [
    {
     "data": {
      "text/plain": [
       "<Axes: >"
      ]
     },
     "execution_count": 8,
     "metadata": {},
     "output_type": "execute_result"
    },
    {
     "data": {
      "text/plain": [
       "<Figure size 500x500 with 1 Axes>"
      ],
      "image/png": "[encoded data removed]"
     },
     "metadata": {},
     "output_type": "display_data"
    }
   ],
   "execution_count": 8
  },
  {
   "metadata": {
    "ExecuteTime": {
     "end_time": "2025-07-07T09:58:18.042500Z",
     "start_time": "2025-07-07T09:57:57.850359Z"
    }
   },
   "cell_type": "code",
   "source": [
    "batch_size = 20\n",
    "max_steps = 40000\n",
    "learning_rate = 0.1\n",
    "x, y = torch.tensor(data[0]).float(), torch.tensor(data[1])\n",
    "model = Sequential([\n",
    "    Linear(2, 4), Sigmoid(),  # （B，4）\n",
    "    Linear(4, 4), Sigmoid(),  # （B，4）\n",
    "    Linear(4, 2)  # （B，2）\n",
    "])\n",
    "lossi = []\n",
    "\n",
    "for epoch in range(max_steps):\n",
    "    ix = (epoch * batch_size) % len(x)\n",
    "    xx = x[ix:ix + batch_size]\n",
    "    yy = y[ix:ix + batch_size]\n",
    "    logits = model(xx)\n",
    "    loss = F.cross_entropy(logits, yy)\n",
    "    loss.backward()\n",
    "    with torch.no_grad():\n",
    "        for p in model.parameters():\n",
    "            p -= learning_rate * p.grad\n",
    "            p.grad = None\n",
    "    if epoch % 200 == 0:\n",
    "        print(f'step{epoch}, loss{loss.item()}')\n",
    "    lossi.append(loss.item())"
   ],
   "id": "64bd68763be0d37e",
   "outputs": [
    {
     "name": "stdout",
     "output_type": "stream",
     "text": [
      "step0, loss0.6956738829612732\n",
      "step200, loss0.6068126559257507\n",
      "step400, loss0.3847286105155945\n",
      "step600, loss0.22746601700782776\n",
      "step800, loss0.1514061689376831\n",
      "step1000, loss0.11398601531982422\n",
      "step1200, loss0.09557627141475677\n",
      "step1400, loss0.08618849515914917\n",
      "step1600, loss0.08120669424533844\n",
      "step1800, loss0.07848697900772095\n",
      "step2000, loss0.07697002589702606\n",
      "step2200, loss0.07610350847244263\n",
      "step2400, loss0.07559039443731308\n",
      "step2600, loss0.07526935636997223\n",
      "step2800, loss0.07505282014608383\n",
      "step3000, loss0.07489346712827682\n",
      "step3200, loss0.07476513087749481\n",
      "step3400, loss0.07465286552906036\n",
      "step3600, loss0.07454705983400345\n",
      "step3800, loss0.0744401067495346\n",
      "step4000, loss0.0743246078491211\n",
      "step4200, loss0.0741920992732048\n",
      "step4400, loss0.07403234392404556\n",
      "step4600, loss0.07383273541927338\n",
      "step4800, loss0.07357834279537201\n",
      "step5000, loss0.07325290143489838\n",
      "step5200, loss0.07284043729305267\n",
      "step5400, loss0.07232795655727386\n",
      "step5600, loss0.0717085674405098\n",
      "step5800, loss0.07098378241062164\n",
      "step6000, loss0.0701642781496048\n",
      "step6200, loss0.0692693293094635\n",
      "step6400, loss0.06832350790500641\n",
      "step6600, loss0.06735318899154663\n",
      "step6800, loss0.06638284772634506\n",
      "step7000, loss0.06543256342411041\n",
      "step7200, loss0.06451640278100967\n",
      "step7400, loss0.06364253163337708\n",
      "step7600, loss0.06281339377164841\n",
      "step7800, loss0.06202687695622444\n",
      "step8000, loss0.061276864260435104\n",
      "step8200, loss0.060554008930921555\n",
      "step8400, loss0.0598459355533123\n",
      "step8600, loss0.05913649871945381\n",
      "step8800, loss0.05840594321489334\n",
      "step9000, loss0.05763142183423042\n",
      "step9200, loss0.05679742619395256\n",
      "step9400, loss0.05594496801495552\n",
      "step9600, loss0.05523946136236191\n",
      "step9800, loss0.05384845286607742\n",
      "step10000, loss0.048820529133081436\n",
      "step10200, loss0.04162770137190819\n",
      "step10400, loss0.03416108712553978\n",
      "step10600, loss0.027238860726356506\n",
      "step10800, loss0.0217477735131979\n",
      "step11000, loss0.017696145921945572\n",
      "step11200, loss0.014700965955853462\n",
      "step11400, loss0.012427074834704399\n",
      "step11600, loss0.010653136298060417\n",
      "step11800, loss0.00923905335366726\n",
      "step12000, loss0.008093204349279404\n",
      "step12200, loss0.0071527124382555485\n",
      "step12400, loss0.006372410804033279\n",
      "step12600, loss0.005718733184039593\n",
      "step12800, loss0.005166346672922373\n",
      "step13000, loss0.004695722833275795\n",
      "step13200, loss0.004291664808988571\n",
      "step13400, loss0.003942257724702358\n",
      "step13600, loss0.0036380253732204437\n",
      "step13800, loss0.00337149016559124\n",
      "step14000, loss0.003136561717838049\n",
      "step14200, loss0.0029283594340085983\n",
      "step14400, loss0.0027428879402577877\n",
      "step14600, loss0.002576881553977728\n",
      "step14800, loss0.0024275858886539936\n",
      "step15000, loss0.002292800461873412\n",
      "step15200, loss0.0021706309635192156\n",
      "step15400, loss0.002059446182101965\n",
      "step15600, loss0.001957990461960435\n",
      "step15800, loss0.001865044585429132\n",
      "step16000, loss0.0017796518513932824\n",
      "step16200, loss0.001700978958979249\n",
      "step16400, loss0.0016283283475786448\n",
      "step16600, loss0.0015610137488692999\n",
      "step16800, loss0.001498544355854392\n",
      "step17000, loss0.0014404531102627516\n",
      "step17200, loss0.0013862662017345428\n",
      "step17400, loss0.0013356583658605814\n",
      "step17600, loss0.0012882864102721214\n",
      "step17800, loss0.0012438481207937002\n",
      "step18000, loss0.0012021246366202831\n",
      "step18200, loss0.0011628794018179178\n",
      "step18400, loss0.0011258989106863737\n",
      "step18600, loss0.0010909817647188902\n",
      "step18800, loss0.0010579979280009866\n",
      "step19000, loss0.0010267870966345072\n",
      "step19200, loss0.0009972015395760536\n",
      "step19400, loss0.0009691462619230151\n",
      "step19600, loss0.0009424790623597801\n",
      "step19800, loss0.0009171466226689517\n",
      "step20000, loss0.0008930244366638362\n",
      "step20200, loss0.0008700474281795323\n",
      "step20400, loss0.00084812066052109\n",
      "step20600, loss0.0008271729457192123\n",
      "step20800, loss0.0008071629563346505\n",
      "step21000, loss0.0007880193297751248\n",
      "step21200, loss0.0007697067339904606\n",
      "step21400, loss0.0007521657389588654\n",
      "step21600, loss0.0007353310938924551\n",
      "step21800, loss0.0007191791082732379\n",
      "step22000, loss0.0007036562892608345\n",
      "step22200, loss0.0006887510535307229\n",
      "step22400, loss0.0006744276033714414\n",
      "step22600, loss0.0006606266251765192\n",
      "step22800, loss0.0006473601097241044\n",
      "step23000, loss0.0006345745641738176\n",
      "step23200, loss0.0006222104420885444\n",
      "step23400, loss0.0006103155901655555\n",
      "step23600, loss0.0005988365155644715\n",
      "step23800, loss0.0005877433577552438\n",
      "step24000, loss0.0005769947892986238\n",
      "step24200, loss0.0005666441866196692\n",
      "step24400, loss0.0005566143081523478\n",
      "step24600, loss0.0005468991585075855\n",
      "step24800, loss0.0005375107866711915\n",
      "step25000, loss0.0005284134531393647\n",
      "step25200, loss0.0005195954581722617\n",
      "step25400, loss0.000511062506120652\n",
      "step25600, loss0.0005027613369747996\n",
      "step25800, loss0.0004947214620187879\n",
      "step26000, loss0.00048690149560570717\n",
      "step26200, loss0.00047931927838362753\n",
      "step26400, loss0.0004719389253295958\n",
      "step26600, loss0.00046477853902615607\n",
      "step26800, loss0.0004578201624099165\n",
      "step27000, loss0.0004510222061071545\n",
      "step27200, loss0.0004444500955287367\n",
      "step27400, loss0.00043803249718621373\n",
      "step27600, loss0.0004317931307014078\n",
      "step27800, loss0.0004257262626197189\n",
      "step28000, loss0.0004197840462438762\n",
      "step28200, loss0.0004140202363487333\n",
      "step28400, loss0.0004083930398337543\n",
      "step28600, loss0.0004029205010738224\n",
      "step28800, loss0.00039757267222739756\n",
      "step29000, loss0.00039233785355463624\n",
      "step29200, loss0.0003872515808325261\n",
      "step29400, loss0.00038229022175073624\n",
      "step29600, loss0.0003774417273234576\n",
      "step29800, loss0.0003726943104993552\n",
      "step30000, loss0.00036804797127842903\n",
      "step30200, loss0.0003635442990344018\n",
      "step30400, loss0.0003591357672121376\n",
      "step30600, loss0.0003547866363078356\n",
      "step30800, loss0.00035057426430284977\n",
      "step31000, loss0.00034644518746063113\n",
      "step31200, loss0.00034238744410686195\n",
      "step31400, loss0.00033843665733002126\n",
      "step31600, loss0.0003345751320011914\n",
      "step31800, loss0.0003307610750198364\n",
      "step32000, loss0.0003270481538493186\n",
      "step32200, loss0.00032341849873773754\n",
      "step32400, loss0.00031986617250368\n",
      "step32600, loss0.00031636731000617146\n",
      "step32800, loss0.000312963587930426\n",
      "step33000, loss0.00030961341690272093\n",
      "step33200, loss0.0003063226758968085\n",
      "step33400, loss0.0003031092637684196\n",
      "step33600, loss0.0002999434364028275\n",
      "step33800, loss0.0002968549379147589\n",
      "step34000, loss0.0002938079705927521\n",
      "step34200, loss0.0002908384194597602\n",
      "step34400, loss0.00028791045770049095\n",
      "step34600, loss0.0002850538876373321\n",
      "step34800, loss0.00028222703258506954\n",
      "step35000, loss0.00027947156922891736\n",
      "step35200, loss0.00027674579177983105\n",
      "step35400, loss0.00027410336770117283\n",
      "step35600, loss0.0002714846923481673\n",
      "step35800, loss0.00026891360175795853\n",
      "step36000, loss0.00026638415874913335\n",
      "step36200, loss0.00026390227139927447\n",
      "step36400, loss0.00026145012816414237\n",
      "step36600, loss0.00025906343944370747\n",
      "step36800, loss0.0002566945622675121\n",
      "step37000, loss0.0002543971058912575\n",
      "step37200, loss0.0002521353308111429\n",
      "step37400, loss0.00024987352662719786\n",
      "step37600, loss0.00024767121067270637\n",
      "step37800, loss0.00024552844115532935\n",
      "step38000, loss0.00024337368085980415\n",
      "step38200, loss0.0002412844478385523\n",
      "step38400, loss0.00023920703097246587\n",
      "step38600, loss0.0002371653390582651\n",
      "step38800, loss0.0002351772563997656\n",
      "step39000, loss0.00023321292246691883\n",
      "step39200, loss0.00023127238091547042\n",
      "step39400, loss0.00022938540496397763\n",
      "step39600, loss0.000227492448175326\n",
      "step39800, loss0.00022564113896805793\n"
     ]
    }
   ],
   "execution_count": 13
  },
  {
   "metadata": {
    "ExecuteTime": {
     "end_time": "2025-07-07T09:58:28.625085Z",
     "start_time": "2025-07-07T09:58:28.378009Z"
    }
   },
   "cell_type": "code",
   "source": [
    "ax = draw_data(data)\n",
    "draw_model(ax, model)"
   ],
   "id": "a61488838694bc17",
   "outputs": [
    {
     "data": {
      "text/plain": [
       "<Axes: >"
      ]
     },
     "execution_count": 14,
     "metadata": {},
     "output_type": "execute_result"
    },
    {
     "data": {
      "text/plain": [
       "<Figure size 500x500 with 1 Axes>"
      ],
      "image/png": "[encoded data removed]"
     },
     "metadata": {},
     "output_type": "display_data"
    }
   ],
   "execution_count": 14
  },
  {
   "metadata": {},
   "cell_type": "code",
   "outputs": [],
   "execution_count": null,
   "source": "",
   "id": "f38b50d59a22e4cd"
  }
 ],
 "metadata": {
  "kernelspec": {
   "display_name": "Python 3",
   "language": "python",
   "name": "python3"
  },
  "language_info": {
   "codemirror_mode": {
    "name": "ipython",
    "version": 2
   },
   "file_extension": ".py",
   "mimetype": "text/x-python",
   "name": "python",
   "nbconvert_exporter": "python",
   "pygments_lexer": "ipython2",
   "version": "2.7.6"
  }
 },
 "nbformat": 4,
 "nbformat_minor": 5
}
