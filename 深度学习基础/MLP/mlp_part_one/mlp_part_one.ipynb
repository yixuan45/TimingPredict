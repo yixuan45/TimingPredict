{
 "cells": [
  {
   "cell_type": "code",
   "id": "7a26c716-c724-4e30-9e30-947b3c41d678",
   "metadata": {
    "ExecuteTime": {
     "end_time": "2025-07-07T08:34:35.197867Z",
     "start_time": "2025-07-07T08:34:33.251336Z"
    }
   },
   "source": [
    "import torch \n",
    "\n",
    "torch.manual_seed(1024)"
   ],
   "outputs": [
    {
     "data": {
      "text/plain": [
       "<torch._C.Generator at 0x1c9a74f4810>"
      ]
     },
     "execution_count": 1,
     "metadata": {},
     "output_type": "execute_result"
    }
   ],
   "execution_count": 1
  },
  {
   "cell_type": "code",
   "id": "51ab5098-65b1-461f-ac98-21bdea34e1b1",
   "metadata": {
    "ExecuteTime": {
     "end_time": "2025-07-07T08:34:35.399139Z",
     "start_time": "2025-07-07T08:34:35.385153Z"
    }
   },
   "source": [
    "class Linear:\n",
    "    # input:(B,in_features)\n",
    "    # output:(B,out_features)\n",
    "    def __init__(self, in_features, out_features, bias=True):\n",
    "        # 对于模型参数的初始化，故意没有做优化\n",
    "        self.weight = torch.randn(in_features, out_features, requires_grad=True)  # (in_features,out_features)\n",
    "        if bias:\n",
    "            self.bias = torch.randn(out_features, requires_grad=True)  # (out_features)\n",
    "        else:\n",
    "            self.bias = None\n",
    "\n",
    "    def __call__(self, x): # 方法让类的实例可以像函数一样被调用\n",
    "        # x:  (B,in_features)\n",
    "        # self.weight:(in_features,out_features)\n",
    "        self.out = x @ self.weight\n",
    "        if self.bias is not None:\n",
    "            self.out += self.bias\n",
    "        return self.out\n",
    "\n",
    "    def parameters(self):\n",
    "        # 返回模型参数\n",
    "        if self.bias is not None:\n",
    "            return [self.weight, self.bias]\n",
    "        return self.weight"
   ],
   "outputs": [],
   "execution_count": 2
  },
  {
   "metadata": {
    "ExecuteTime": {
     "end_time": "2025-07-07T08:34:35.430033Z",
     "start_time": "2025-07-07T08:34:35.415072Z"
    }
   },
   "cell_type": "code",
   "source": [
    "l=Linear(3,4)\n",
    "x=torch.randn(5,3)\n",
    "l(x).shape"
   ],
   "id": "68162a5ee5c54d09",
   "outputs": [
    {
     "data": {
      "text/plain": [
       "torch.Size([5, 4])"
      ]
     },
     "execution_count": 3,
     "metadata": {},
     "output_type": "execute_result"
    }
   ],
   "execution_count": 3
  },
  {
   "metadata": {
    "ExecuteTime": {
     "end_time": "2025-07-07T08:34:35.491883Z",
     "start_time": "2025-07-07T08:34:35.476923Z"
    }
   },
   "cell_type": "code",
   "source": "l.parameters()",
   "id": "4c6022782bcabf26",
   "outputs": [
    {
     "data": {
      "text/plain": [
       "[tensor([[-1.4837,  0.2671, -1.8337, -0.1047],\n",
       "         [ 0.6002, -0.5496,  1.0391,  0.2261],\n",
       "         [ 0.3490,  0.9540,  0.0909,  0.2139]], requires_grad=True),\n",
       " tensor([ 0.0137,  1.7289, -0.4150,  0.0753], requires_grad=True)]"
      ]
     },
     "execution_count": 4,
     "metadata": {},
     "output_type": "execute_result"
    }
   ],
   "execution_count": 4
  },
  {
   "metadata": {
    "ExecuteTime": {
     "end_time": "2025-07-07T08:34:35.538764Z",
     "start_time": "2025-07-07T08:34:35.523804Z"
    }
   },
   "cell_type": "code",
   "source": [
    "class Sigmoid:\n",
    "    def __call__(self, x):\n",
    "        self.out = torch.sigmoid(x)\n",
    "        return self.out\n",
    "\n",
    "    @staticmethod\n",
    "    def parameters():\n",
    "        return []"
   ],
   "id": "dfd3e434f0c362c6",
   "outputs": [],
   "execution_count": 5
  },
  {
   "metadata": {
    "ExecuteTime": {
     "end_time": "2025-07-07T08:34:35.568683Z",
     "start_time": "2025-07-07T08:34:35.555719Z"
    }
   },
   "cell_type": "code",
   "source": [
    "s=Sigmoid()\n",
    "X=torch.randn(5,3)\n",
    "s(x).shape"
   ],
   "id": "629f6bd2894a3e3e",
   "outputs": [
    {
     "data": {
      "text/plain": [
       "torch.Size([5, 3])"
      ]
     },
     "execution_count": 6,
     "metadata": {},
     "output_type": "execute_result"
    }
   ],
   "execution_count": 6
  },
  {
   "metadata": {
    "ExecuteTime": {
     "end_time": "2025-07-07T08:34:35.630156Z",
     "start_time": "2025-07-07T08:34:35.616193Z"
    }
   },
   "cell_type": "code",
   "source": [
    "class Perceptron:\n",
    "    def __init__(self, in_features):\n",
    "        self.ln = Linear(in_features, 1)\n",
    "        self.f = Sigmoid()\n",
    "\n",
    "    def __call__(self, x):\n",
    "        # x:(B,in_features)\n",
    "        self.out = self.f(self.ln(x))  # (B,1)\n",
    "        return self.out\n",
    "\n",
    "    def parameters(self):\n",
    "        return self.ln.parameters() + self.f.parameters()"
   ],
   "id": "8dc25e0b8e336340",
   "outputs": [],
   "execution_count": 7
  },
  {
   "metadata": {
    "ExecuteTime": {
     "end_time": "2025-07-07T08:34:35.677030Z",
     "start_time": "2025-07-07T08:34:35.663068Z"
    }
   },
   "cell_type": "code",
   "source": [
    "p=Perceptron(3)\n",
    "x=torch.randn(5,3)\n",
    "p(x).shape"
   ],
   "id": "44add7e9040a91f2",
   "outputs": [
    {
     "data": {
      "text/plain": [
       "torch.Size([5, 1])"
      ]
     },
     "execution_count": 8,
     "metadata": {},
     "output_type": "execute_result"
    }
   ],
   "execution_count": 8
  },
  {
   "metadata": {
    "ExecuteTime": {
     "end_time": "2025-07-07T08:34:35.723361Z",
     "start_time": "2025-07-07T08:34:35.709398Z"
    }
   },
   "cell_type": "code",
   "source": [
    "class LogitRegression:\n",
    "    # input:(B,in_features)\n",
    "    # output：（B，2）\n",
    "    def __init__(self, in_features):\n",
    "        self.pos=Linear(in_features, 1)\n",
    "        self.neg=Linear(in_features, 1)\n",
    "\n",
    "    def __call__(self, x):\n",
    "        #x:(B,in_features)\n",
    "        self.out = torch.concat((self.pos(x), self.neg(x)),dim=-1) # (B,2)\n",
    "        return self.out\n",
    "\n",
    "    def parameters(self):\n",
    "        return self.pos.parameters() + self.neg.parameters()"
   ],
   "id": "fe3a2c5a87566097",
   "outputs": [],
   "execution_count": 9
  },
  {
   "metadata": {
    "ExecuteTime": {
     "end_time": "2025-07-07T08:34:35.769013Z",
     "start_time": "2025-07-07T08:34:35.755849Z"
    }
   },
   "cell_type": "code",
   "source": [
    "lr=LogitRegression(3)\n",
    "x=torch.randn(5,3)\n",
    "lr(x).shape"
   ],
   "id": "bfae1f881ce6ebd7",
   "outputs": [
    {
     "data": {
      "text/plain": [
       "torch.Size([5, 2])"
      ]
     },
     "execution_count": 10,
     "metadata": {},
     "output_type": "execute_result"
    }
   ],
   "execution_count": 10
  },
  {
   "metadata": {
    "ExecuteTime": {
     "end_time": "2025-07-07T08:34:51.710443Z",
     "start_time": "2025-07-07T08:34:51.698951Z"
    }
   },
   "cell_type": "code",
   "source": [
    "logits=lr(x)\n",
    "print(logits)"
   ],
   "id": "ee9bc20c720214a9",
   "outputs": [
    {
     "name": "stdout",
     "output_type": "stream",
     "text": [
      "tensor([[-1.5558, -2.1920],\n",
      "        [-3.6954, -0.1511],\n",
      "        [-3.4346,  1.8923],\n",
      "        [-3.6665,  1.6386],\n",
      "        [-0.8530, -1.4304]], grad_fn=<CatBackward0>)\n"
     ]
    }
   ],
   "execution_count": 12
  },
  {
   "metadata": {
    "ExecuteTime": {
     "end_time": "2025-07-07T08:37:14.680134Z",
     "start_time": "2025-07-07T08:37:14.573448Z"
    }
   },
   "cell_type": "code",
   "source": [
    "import torch.nn.functional as F\n",
    "\n",
    "probs = F.softmax(logits, dim=-1)\n",
    "\n",
    "pred = torch.argmax(probs, dim=-1)\n",
    "print(probs)\n",
    "print(pred)"
   ],
   "id": "b7a81ba43109d38e",
   "outputs": [
    {
     "name": "stdout",
     "output_type": "stream",
     "text": [
      "tensor([[0.6539, 0.3461],\n",
      "        [0.0281, 0.9719],\n",
      "        [0.0048, 0.9952],\n",
      "        [0.0049, 0.9951],\n",
      "        [0.6405, 0.3595]], grad_fn=<SoftmaxBackward0>)\n",
      "tensor([0, 1, 1, 1, 0])\n"
     ]
    }
   ],
   "execution_count": 13
  },
  {
   "metadata": {
    "ExecuteTime": {
     "end_time": "2025-07-07T08:43:33.101673Z",
     "start_time": "2025-07-07T08:43:33.013119Z"
    }
   },
   "cell_type": "code",
   "source": [
    "print(logits)\n",
    "print(pred)\n",
    "loss=F.cross_entropy(logits, pred)\n",
    "print(loss)"
   ],
   "id": "452c74a66995fc3c",
   "outputs": [
    {
     "name": "stdout",
     "output_type": "stream",
     "text": [
      "tensor([[-1.5558, -2.1920],\n",
      "        [-3.6954, -0.1511],\n",
      "        [-3.4346,  1.8923],\n",
      "        [-3.6665,  1.6386],\n",
      "        [-0.8530, -1.4304]], grad_fn=<CatBackward0>)\n",
      "tensor([0, 1, 1, 1, 0])\n",
      "tensor(0.1817, grad_fn=<NllLossBackward0>)\n"
     ]
    }
   ],
   "execution_count": 14
  },
  {
   "metadata": {
    "ExecuteTime": {
     "end_time": "2025-07-07T08:47:35.929511Z",
     "start_time": "2025-07-07T08:47:35.809644Z"
    }
   },
   "cell_type": "code",
   "source": [
    "\n",
    "\n",
    "data = make_blobs(200, centers=[[-2, -2], [2, 2]])\n",
    "x, y = data\n",
    "plt.scatter(x[:, 0], x[:, 1])"
   ],
   "id": "95852e4e845e2c1",
   "outputs": [
    {
     "name": "stdout",
     "output_type": "stream",
     "text": [
      "[0 1 0 0 0 0 0 1 1 0 1 0 1 0 1 0 0 0 0 0 1 0 0 1 0 1 1 1 1 0 1 0 0 0 1 1 1\n",
      " 1 1 0 1 1 0 1 1 1 1 1 0 1 0 0 0 0 1 1 1 0 1 1 1 1 1 0 0 1 1 0 0 0 1 0 1 1\n",
      " 1 1 1 1 0 1 0 1 1 1 1 1 0 1 0 0 0 1 0 0 0 1 0 0 0 1 0 0 1 1 0 1 0 1 0 0 0\n",
      " 0 0 0 0 1 0 0 1 0 1 0 1 1 1 0 0 1 0 1 0 0 1 0 1 0 0 1 0 1 1 1 0 1 1 1 1 1\n",
      " 1 0 0 0 0 1 1 0 1 1 1 0 1 1 1 0 0 1 0 0 0 1 0 1 0 0 0 0 1 0 1 0 1 1 0 0 0\n",
      " 1 0 1 0 0 0 0 1 1 0 1 0 1 1 1]\n"
     ]
    },
    {
     "data": {
      "text/plain": [
       "<matplotlib.collections.PathCollection at 0x1c9c68878e0>"
      ]
     },
     "execution_count": 17,
     "metadata": {},
     "output_type": "execute_result"
    },
    {
     "data": {
      "text/plain": [
       "<Figure size 640x480 with 1 Axes>"
      ],
      "image/png": "[encoded data removed]"
     },
     "metadata": {},
     "output_type": "display_data"
    }
   ],
   "execution_count": 17
  },
  {
   "metadata": {
    "ExecuteTime": {
     "end_time": "2025-07-07T09:00:20.142551Z",
     "start_time": "2025-07-07T09:00:18.927410Z"
    }
   },
   "cell_type": "code",
   "source": [
    "batch_size = 20\n",
    "max_steps = 2000\n",
    "learning_rate = 0.01\n",
    "x, y = torch.tensor(data[0]).float(), torch.tensor(data[1])\n",
    "lr = LogitRegression(2)\n",
    "lossi = []\n",
    "\n",
    "for t in range(max_steps):\n",
    "    ix = (t * batch_size) % len(x)\n",
    "    xx = x[ix:ix + batch_size]\n",
    "    yy = y[ix:ix + batch_size]  # (20)\n",
    "    logits = lr(xx)  # (20,2)\n",
    "    loss = F.cross_entropy(logits, yy)\n",
    "    loss.backward()\n",
    "    with torch.no_grad():\n",
    "        for p in lr.parameters():\n",
    "            p -= learning_rate * p.grad\n",
    "            p.grad = None\n",
    "\n",
    "    if t % 200 == 0:\n",
    "        print(f'step{t}, loss{loss.item()}')\n",
    "    lossi.append(loss.item())"
   ],
   "id": "586ed8ffe00d5b50",
   "outputs": [
    {
     "name": "stdout",
     "output_type": "stream",
     "text": [
      "step0, loss0.6793578863143921\n",
      "step200, loss0.03450701758265495\n",
      "step400, loss0.01650935225188732\n",
      "step600, loss0.010551667772233486\n",
      "step800, loss0.007615037262439728\n",
      "step1000, loss0.005879480391740799\n",
      "step1200, loss0.004739671945571899\n",
      "step1400, loss0.003937453962862492\n",
      "step1600, loss0.0033444359432905912\n",
      "step1800, loss0.002889708150178194\n"
     ]
    }
   ],
   "execution_count": 18
  },
  {
   "metadata": {
    "ExecuteTime": {
     "end_time": "2025-07-07T09:01:50.596051Z",
     "start_time": "2025-07-07T09:01:50.460415Z"
    }
   },
   "cell_type": "code",
   "source": "plt.plot(lossi)",
   "id": "de3de9f1cbed0a65",
   "outputs": [
    {
     "data": {
      "text/plain": [
       "[<matplotlib.lines.Line2D at 0x1c9c8e5eb60>]"
      ]
     },
     "execution_count": 19,
     "metadata": {},
     "output_type": "execute_result"
    },
    {
     "data": {
      "text/plain": [
       "<Figure size 640x480 with 1 Axes>"
      ],
      "image/png": "[encoded data removed]"
     },
     "metadata": {},
     "output_type": "display_data"
    }
   ],
   "execution_count": 19
  },
  {
   "metadata": {},
   "cell_type": "code",
   "outputs": [],
   "execution_count": null,
   "source": "",
   "id": "54a714eb0c5ef875"
  }
 ],
 "metadata": {
  "kernelspec": {
   "display_name": "Python 3 (ipykernel)",
   "language": "python",
   "name": "python3"
  },
  "language_info": {
   "codemirror_mode": {
    "name": "ipython",
    "version": 3
   },
   "file_extension": ".py",
   "mimetype": "text/x-python",
   "name": "python",
   "nbconvert_exporter": "python",
   "pygments_lexer": "ipython3",
   "version": "3.10.18"
  }
 },
 "nbformat": 4,
 "nbformat_minor": 5
}
