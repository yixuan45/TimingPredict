{
 "cells": [
  {
   "cell_type": "code",
   "id": "initial_id",
   "metadata": {
    "collapsed": true,
    "ExecuteTime": {
     "end_time": "2025-07-04T07:31:13.911323Z",
     "start_time": "2025-07-04T07:31:13.887236Z"
    }
   },
   "source": [
    "class ScalarTmp:\n",
    "\n",
    "    def __init__(self, value, prevs=[], op=None, label=''):\n",
    "        # 定义节点的值\n",
    "        self.value = value\n",
    "        # 定义直接的前序节点\n",
    "        self.prevs = prevs\n",
    "        # 定义运算符号：op或者变量名label\n",
    "        self.op = op\n",
    "        self.label = label\n",
    "\n",
    "    def __repr__(self):\n",
    "        return f'{self.value} | {self.op} | {self.label}'\n",
    "\n",
    "    def __add__(self, other):\n",
    "        # self_other触发这个函数\n",
    "        value = self.value + other.value\n",
    "        prevs = [self, other]\n",
    "        output = ScalarTmp(value, prevs, op='+')\n",
    "        return output\n",
    "\n",
    "    def __mul__(self, other):\n",
    "        # self*other出发这个函数\n",
    "        value = self.value * other.value\n",
    "        prevs = [self, other]\n",
    "        output = ScalarTmp(value, prevs, op='*')\n",
    "        return output"
   ],
   "outputs": [],
   "execution_count": 1
  },
  {
   "metadata": {},
   "cell_type": "code",
   "outputs": [],
   "execution_count": null,
   "source": "",
   "id": "a170b279cecb60d"
  }
 ],
 "metadata": {
  "kernelspec": {
   "display_name": "Python 3",
   "language": "python",
   "name": "python3"
  },
  "language_info": {
   "codemirror_mode": {
    "name": "ipython",
    "version": 2
   },
   "file_extension": ".py",
   "mimetype": "text/x-python",
   "name": "python",
   "nbconvert_exporter": "python",
   "pygments_lexer": "ipython2",
   "version": "2.7.6"
  }
 },
 "nbformat": 4,
 "nbformat_minor": 5
}
