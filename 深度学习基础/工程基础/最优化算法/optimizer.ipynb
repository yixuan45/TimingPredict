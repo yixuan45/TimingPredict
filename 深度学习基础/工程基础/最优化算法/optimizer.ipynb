{
 "cells": [
  {
   "cell_type": "code",
   "id": "initial_id",
   "metadata": {
    "collapsed": true,
    "ExecuteTime": {
     "end_time": "2025-07-04T06:34:02.962918Z",
     "start_time": "2025-07-04T06:34:01.035247Z"
    }
   },
   "source": [
    "import torch\n",
    "\n",
    "torch.manual_seed(1024)"
   ],
   "outputs": [
    {
     "data": {
      "text/plain": [
       "<torch._C.Generator at 0x11550f04850>"
      ]
     },
     "execution_count": 1,
     "metadata": {},
     "output_type": "execute_result"
    }
   ],
   "execution_count": 1
  },
  {
   "metadata": {
    "ExecuteTime": {
     "end_time": "2025-07-04T06:34:03.150457Z",
     "start_time": "2025-07-04T06:34:03.136464Z"
    }
   },
   "cell_type": "code",
   "source": [
    "x = torch.linspace(100, 200, 300)\n",
    "x = (x - torch.mean(x)) / torch.std(x)\n",
    "epsilon = torch.randn(x.shape)\n",
    "y = 10 * x + 5 + epsilon"
   ],
   "id": "a878bc5079a5ab9b",
   "outputs": [],
   "execution_count": 2
  },
  {
   "metadata": {
    "ExecuteTime": {
     "end_time": "2025-07-04T06:34:03.773953Z",
     "start_time": "2025-07-04T06:34:03.181371Z"
    }
   },
   "cell_type": "code",
   "source": [
    "import matplotlib.pyplot as plt\n",
    "\n",
    "plt.scatter(x, y)"
   ],
   "id": "b63ecccf00e012dc",
   "outputs": [
    {
     "data": {
      "text/plain": [
       "<matplotlib.collections.PathCollection at 0x11555ee0c40>"
      ]
     },
     "execution_count": 3,
     "metadata": {},
     "output_type": "execute_result"
    },
    {
     "data": {
      "text/plain": [
       "<Figure size 640x480 with 1 Axes>"
      ],
      "image/png": "[encoded data removed]"
     },
     "metadata": {},
     "output_type": "display_data"
    }
   ],
   "execution_count": 3
  },
  {
   "metadata": {
    "ExecuteTime": {
     "end_time": "2025-07-04T06:34:03.837421Z",
     "start_time": "2025-07-04T06:34:03.823686Z"
    }
   },
   "cell_type": "code",
   "source": "y",
   "id": "6f07905f277429f4",
   "outputs": [
    {
     "data": {
      "text/plain": [
       "tensor([-13.3961, -10.8075, -11.8528,  -9.6184, -10.4426, -10.4315, -10.4689,\n",
       "        -12.5440,  -9.9117,  -9.9984, -11.7509, -10.6392, -12.1117,  -9.6365,\n",
       "        -10.2414, -10.8527, -10.2342,  -8.7388,  -8.6868,  -8.4204, -10.7022,\n",
       "         -8.9323,  -9.7631, -10.9311, -10.2529,  -9.0773,  -8.2096,  -9.2912,\n",
       "         -7.0133,  -9.1074,  -7.8029,  -7.5345,  -7.5801,  -9.7838, -11.2021,\n",
       "         -7.7175,  -8.9588,  -7.1778,  -9.3528,  -8.5715,  -7.7933,  -8.6871,\n",
       "         -7.2771,  -7.2377,  -7.9924,  -6.7385,  -7.5372,  -6.9353,  -7.4078,\n",
       "         -7.0749,  -4.8561,  -6.1742,  -7.8895,  -4.2468,  -4.3038,  -7.1418,\n",
       "         -5.5982,  -6.6931,  -6.2595,  -4.4945,  -5.9768,  -3.8734,  -5.9221,\n",
       "         -4.4415,  -4.2563,  -4.6526,  -4.2992,  -2.6721,  -4.6666,  -3.2846,\n",
       "         -4.0007,  -3.4749,  -4.3257,  -2.6311,  -3.9901,  -3.2775,  -3.1723,\n",
       "         -3.9969,  -4.1025,  -1.8642,  -0.4277,  -2.2701,  -2.7522,  -1.9702,\n",
       "         -0.9997,  -3.9899,  -3.4731,  -2.8806,  -3.1944,  -2.2291,   0.2067,\n",
       "         -2.0081,  -1.8531,  -0.9963,  -1.9125,   0.2003,  -1.6780,  -1.6092,\n",
       "         -2.4547,  -2.3944,  -0.0433,  -0.4494,  -1.9606,   0.3827,  -0.8488,\n",
       "          0.3194,  -0.2711,  -1.2914,   1.5908,   2.1890,  -0.6482,   0.4720,\n",
       "         -0.1424,   0.8958,   1.8765,   1.2908,   0.3634,   0.3025,   3.0819,\n",
       "          1.9014,   2.0495,   1.7795,  -0.7869,   1.9795,   2.0633,   3.9305,\n",
       "          1.2986,   2.7040,   0.5047,   2.9003,   3.1110,   3.1037,   3.4634,\n",
       "          3.3789,   4.3386,   3.3330,   4.1574,   5.1700,   3.5640,   3.2063,\n",
       "          4.0240,   4.4130,   3.9043,   3.6642,   6.2220,   5.2482,   6.0296,\n",
       "          4.8214,   6.4868,   4.7800,   5.3845,   5.9252,   5.0142,   5.4970,\n",
       "          3.8821,   2.3266,   6.6786,   3.1055,   5.6880,   4.9971,   7.2986,\n",
       "          6.9523,   6.2137,   5.4143,   6.2905,   6.1007,   7.1789,   7.5078,\n",
       "          8.5100,   6.3729,   7.6929,   6.4780,   8.3873,   6.9350,   8.3452,\n",
       "          8.2598,   8.7628,   7.5552,   7.4632,   8.6716,   7.3319,  10.2494,\n",
       "         10.8121,  10.6092,  10.1196,  10.9842,   8.0730,   8.4432,  10.2165,\n",
       "         10.8404,   9.9262,  10.7839,   9.9761,   9.9339,  10.0558,   9.9531,\n",
       "          8.7230,  12.1522,  10.7987,  12.4244,  11.2839,  11.3394,  12.8771,\n",
       "         11.3400,  10.7580,  10.8626,  10.1032,  11.8161,  10.2622,  12.0441,\n",
       "         12.3244,  12.8260,  12.1211,  12.6162,  12.6609,  13.5673,  11.1499,\n",
       "         15.0834,  12.4449,  13.8634,  14.6111,  11.3710,  12.9432,  14.4299,\n",
       "         13.5063,  13.4432,  14.3344,  12.6118,  15.5436,  14.0673,  13.4212,\n",
       "         16.1272,  15.4826,  14.8096,  14.7466,  13.8342,  14.9045,  14.4092,\n",
       "         14.9016,  16.0020,  13.8594,  14.2020,  15.5706,  16.1438,  15.8190,\n",
       "         15.7757,  15.4445,  18.5643,  17.9548,  16.3087,  16.6577,  17.8444,\n",
       "         17.1854,  17.4247,  18.3742,  17.2766,  16.6122,  17.4081,  16.3866,\n",
       "         18.2067,  17.3543,  17.1629,  19.4183,  17.6897,  18.9247,  17.2412,\n",
       "         19.3506,  19.2409,  18.7137,  20.5379,  19.1843,  21.3213,  17.5965,\n",
       "         17.8511,  20.5578,  19.2730,  19.0874,  19.8000,  21.3063,  19.0625,\n",
       "         18.5326,  18.9743,  18.4040,  20.5545,  19.4660,  19.1657,  20.3877,\n",
       "         19.6550,  20.1337,  22.0565,  20.9975,  22.0605,  21.8119,  22.2603,\n",
       "         22.8942,  20.4168,  21.7836,  22.9750,  23.1477,  23.1480])"
      ]
     },
     "execution_count": 4,
     "metadata": {},
     "output_type": "execute_result"
    }
   ],
   "execution_count": 4
  },
  {
   "metadata": {
    "ExecuteTime": {
     "end_time": "2025-07-04T06:34:04.966326Z",
     "start_time": "2025-07-04T06:34:03.868983Z"
    }
   },
   "cell_type": "code",
   "source": [
    " from sklearn import linear_model\n",
    "\n",
    "m = linear_model.LinearRegression()\n",
    "m.fit(x.reshape(-1, 1), y)\n",
    "m.coef_, m.intercept_"
   ],
   "id": "b7f27988e500fbec",
   "outputs": [
    {
     "data": {
      "text/plain": [
       "(array([9.965947], dtype=float32), np.float32(5.1028767))"
      ]
     },
     "execution_count": 5,
     "metadata": {},
     "output_type": "execute_result"
    }
   ],
   "execution_count": 5
  },
  {
   "metadata": {
    "ExecuteTime": {
     "end_time": "2025-07-04T06:34:05.044345Z",
     "start_time": "2025-07-04T06:34:05.030378Z"
    }
   },
   "cell_type": "code",
   "source": [
    "#### 梯度下降法\n",
    "import torch.nn as nn\n",
    "\n",
    "\n",
    "class Linear(nn.Module):\n",
    "\n",
    "    def __init__(self):\n",
    "        # 定义模型参数\n",
    "        super(Linear, self).__init__()\n",
    "        self.a = nn.Parameter(torch.zeros(()))\n",
    "        self.b = nn.Parameter(torch.zeros(()))\n",
    "\n",
    "    def forward(self, x):\n",
    "        # 前向传播\n",
    "        return self.a * x + self.b\n",
    "\n",
    "    def string(self):\n",
    "        return f'y={self.a.item():.2f}*x + {self.b.item():.2f}'\n"
   ],
   "id": "68a52a36f29e5562",
   "outputs": [],
   "execution_count": 6
  },
  {
   "metadata": {
    "ExecuteTime": {
     "end_time": "2025-07-04T06:34:05.091516Z",
     "start_time": "2025-07-04T06:34:05.076557Z"
    }
   },
   "cell_type": "code",
   "source": [
    "m = Linear()\n",
    "m(x)"
   ],
   "id": "b9e54fbff8c389ea",
   "outputs": [
    {
     "data": {
      "text/plain": [
       "tensor([0., 0., 0., 0., 0., 0., 0., 0., 0., 0., 0., 0., 0., 0., 0., 0., 0., 0., 0., 0., 0., 0., 0., 0.,\n",
       "        0., 0., 0., 0., 0., 0., 0., 0., 0., 0., 0., 0., 0., 0., 0., 0., 0., 0., 0., 0., 0., 0., 0., 0.,\n",
       "        0., 0., 0., 0., 0., 0., 0., 0., 0., 0., 0., 0., 0., 0., 0., 0., 0., 0., 0., 0., 0., 0., 0., 0.,\n",
       "        0., 0., 0., 0., 0., 0., 0., 0., 0., 0., 0., 0., 0., 0., 0., 0., 0., 0., 0., 0., 0., 0., 0., 0.,\n",
       "        0., 0., 0., 0., 0., 0., 0., 0., 0., 0., 0., 0., 0., 0., 0., 0., 0., 0., 0., 0., 0., 0., 0., 0.,\n",
       "        0., 0., 0., 0., 0., 0., 0., 0., 0., 0., 0., 0., 0., 0., 0., 0., 0., 0., 0., 0., 0., 0., 0., 0.,\n",
       "        0., 0., 0., 0., 0., 0., 0., 0., 0., 0., 0., 0., 0., 0., 0., 0., 0., 0., 0., 0., 0., 0., 0., 0.,\n",
       "        0., 0., 0., 0., 0., 0., 0., 0., 0., 0., 0., 0., 0., 0., 0., 0., 0., 0., 0., 0., 0., 0., 0., 0.,\n",
       "        0., 0., 0., 0., 0., 0., 0., 0., 0., 0., 0., 0., 0., 0., 0., 0., 0., 0., 0., 0., 0., 0., 0., 0.,\n",
       "        0., 0., 0., 0., 0., 0., 0., 0., 0., 0., 0., 0., 0., 0., 0., 0., 0., 0., 0., 0., 0., 0., 0., 0.,\n",
       "        0., 0., 0., 0., 0., 0., 0., 0., 0., 0., 0., 0., 0., 0., 0., 0., 0., 0., 0., 0., 0., 0., 0., 0.,\n",
       "        0., 0., 0., 0., 0., 0., 0., 0., 0., 0., 0., 0., 0., 0., 0., 0., 0., 0., 0., 0., 0., 0., 0., 0.,\n",
       "        0., 0., 0., 0., 0., 0., 0., 0., 0., 0., 0., 0.],\n",
       "       grad_fn=<AddBackward0>)"
      ]
     },
     "execution_count": 7,
     "metadata": {},
     "output_type": "execute_result"
    }
   ],
   "execution_count": 7
  },
  {
   "metadata": {
    "ExecuteTime": {
     "end_time": "2025-07-04T06:34:05.139389Z",
     "start_time": "2025-07-04T06:34:05.124429Z"
    }
   },
   "cell_type": "code",
   "source": "list(m.parameters())",
   "id": "9f70a36834eec075",
   "outputs": [
    {
     "data": {
      "text/plain": [
       "[Parameter containing:\n",
       " tensor(0., requires_grad=True),\n",
       " Parameter containing:\n",
       " tensor(0., requires_grad=True)]"
      ]
     },
     "execution_count": 8,
     "metadata": {},
     "output_type": "execute_result"
    }
   ],
   "execution_count": 8
  },
  {
   "metadata": {
    "ExecuteTime": {
     "end_time": "2025-07-04T06:34:07.002718Z",
     "start_time": "2025-07-04T06:34:05.172615Z"
    }
   },
   "cell_type": "code",
   "source": [
    "import torch.optim as optim\n",
    "\n",
    "loss_list = []\n",
    "learning_rate = 0.1\n",
    "model = Linear()\n",
    "optimizer = optim.SGD(model.parameters(), lr=learning_rate)\n",
    "\n",
    "for t in range(20):\n",
    "    y_pred = model(x)\n",
    "    # 定义损失\n",
    "    loss = (y - y_pred).pow(2).mean()\n",
    "    loss_list.append(loss.item())\n",
    "    # 在计算当前梯度的时候一定要将上一步梯度清空\n",
    "    optimizer.zero_grad()\n",
    "    # 计算梯度\n",
    "    loss.backward()\n",
    "    # 更新模型参数\n",
    "    optimizer.step()\n",
    "    print(model.string())\n",
    "\n",
    "plt.plot(loss_list)"
   ],
   "id": "b9ec755407e8cefd",
   "outputs": [
    {
     "name": "stdout",
     "output_type": "stream",
     "text": [
      "y=1.99*x + 1.02\n",
      "y=3.58*x + 1.84\n",
      "y=4.85*x + 2.49\n",
      "y=5.87*x + 3.01\n",
      "y=6.69*x + 3.43\n",
      "y=7.34*x + 3.77\n",
      "y=7.86*x + 4.03\n",
      "y=8.28*x + 4.25\n",
      "y=8.62*x + 4.42\n",
      "y=8.89*x + 4.55\n",
      "y=9.10*x + 4.66\n",
      "y=9.27*x + 4.75\n",
      "y=9.41*x + 4.82\n",
      "y=9.52*x + 4.88\n",
      "y=9.61*x + 4.92\n",
      "y=9.68*x + 4.96\n",
      "y=9.74*x + 4.99\n",
      "y=9.78*x + 5.01\n",
      "y=9.82*x + 5.03\n",
      "y=9.85*x + 5.04\n"
     ]
    },
    {
     "data": {
      "text/plain": [
       "[<matplotlib.lines.Line2D at 0x11575ba4520>]"
      ]
     },
     "execution_count": 9,
     "metadata": {},
     "output_type": "execute_result"
    },
    {
     "data": {
      "text/plain": [
       "<Figure size 640x480 with 1 Axes>"
      ],
      "image/png": "[encoded data removed]"
     },
     "metadata": {},
     "output_type": "display_data"
    }
   ],
   "execution_count": 9
  },
  {
   "metadata": {
    "ExecuteTime": {
     "end_time": "2025-07-04T06:36:59.934321Z",
     "start_time": "2025-07-04T06:36:59.812079Z"
    }
   },
   "cell_type": "code",
   "source": [
    "loss_list = []\n",
    "learning_rate = 0.1\n",
    "model = Linear()\n",
    "optimizer = optim.SGD(model.parameters(), lr=learning_rate)\n",
    "\n",
    "for t in range(20):\n",
    "    y_pred = model(x)\n",
    "    # 定义损失\n",
    "    loss = (y - y_pred).pow(2).mean()\n",
    "    loss_list.append(loss.item())\n",
    "    # 在计算当前梯度的时候一定要将上一步梯度清空\n",
    "    # optimizer.zero_grad()\n",
    "    # 计算梯度\n",
    "    loss.backward()\n",
    "    # 更新模型参数\n",
    "    # optimizer.step()\n",
    "    with torch.no_grad():\n",
    "        for param in model.parameters():\n",
    "            param -= learning_rate * param.grad\n",
    "            param.grad = None\n",
    "    print(model.string())\n",
    "\n",
    "plt.plot(loss_list)"
   ],
   "id": "9790a2416f197422",
   "outputs": [
    {
     "name": "stdout",
     "output_type": "stream",
     "text": [
      "y=1.99*x + 1.02\n",
      "y=3.58*x + 1.84\n",
      "y=4.85*x + 2.49\n",
      "y=5.87*x + 3.01\n",
      "y=6.69*x + 3.43\n",
      "y=7.34*x + 3.77\n",
      "y=7.86*x + 4.03\n",
      "y=8.28*x + 4.25\n",
      "y=8.62*x + 4.42\n",
      "y=8.89*x + 4.55\n",
      "y=9.10*x + 4.66\n",
      "y=9.27*x + 4.75\n",
      "y=9.41*x + 4.82\n",
      "y=9.52*x + 4.88\n",
      "y=9.61*x + 4.92\n",
      "y=9.68*x + 4.96\n",
      "y=9.74*x + 4.99\n",
      "y=9.78*x + 5.01\n",
      "y=9.82*x + 5.03\n",
      "y=9.85*x + 5.04\n"
     ]
    },
    {
     "data": {
      "text/plain": [
       "[<matplotlib.lines.Line2D at 0x11575c0b070>]"
      ]
     },
     "execution_count": 10,
     "metadata": {},
     "output_type": "execute_result"
    },
    {
     "data": {
      "text/plain": [
       "<Figure size 640x480 with 1 Axes>"
      ],
      "image/png": "[encoded data removed]"
     },
     "metadata": {},
     "output_type": "display_data"
    }
   ],
   "execution_count": 10
  },
  {
   "metadata": {
    "ExecuteTime": {
     "end_time": "2025-07-04T06:43:00.819017Z",
     "start_time": "2025-07-04T06:43:00.694351Z"
    }
   },
   "cell_type": "code",
   "source": [
    "### 随机梯度下降法\n",
    "loss_list = []\n",
    "batch_size = 20\n",
    "learning_rate = 0.1\n",
    "model = Linear()\n",
    "optimizer = optim.SGD(model.parameters(), lr=learning_rate)\n",
    "\n",
    "for t in range(20):\n",
    "    ix = (t * batch_size) % len(x)\n",
    "    xx = x[ix:ix + batch_size]\n",
    "    yy = y[ix:ix + batch_size]\n",
    "    yy_pred = model(xx)\n",
    "    # 定义损失\n",
    "    loss = (yy - yy_pred).pow(2).mean()\n",
    "    loss_list.append(loss.item())\n",
    "    # 在计算当前梯度的时候一定要将上一步梯度清空\n",
    "    optimizer.zero_grad()\n",
    "    # 计算梯度\n",
    "    loss.backward()\n",
    "    # 更新模型参数\n",
    "    optimizer.step()\n",
    "    print(model.string())\n",
    "\n",
    "plt.plot(loss_list)"
   ],
   "id": "bc7287d30288682a",
   "outputs": [
    {
     "name": "stdout",
     "output_type": "stream",
     "text": [
      "y=3.41*x + -2.11\n",
      "y=4.00*x + -2.53\n",
      "y=3.89*x + -2.43\n",
      "y=3.51*x + -2.01\n",
      "y=3.16*x + -1.51\n",
      "y=2.85*x + -0.83\n",
      "y=2.67*x + 0.02\n",
      "y=2.67*x + 1.00\n",
      "y=2.94*x + 2.14\n",
      "y=3.55*x + 3.47\n",
      "y=4.41*x + 4.69\n",
      "y=5.43*x + 5.80\n",
      "y=6.50*x + 6.72\n",
      "y=7.42*x + 7.38\n",
      "y=7.94*x + 7.70\n",
      "y=9.70*x + 6.62\n",
      "y=10.29*x + 6.18\n",
      "y=10.51*x + 6.00\n",
      "y=10.55*x + 5.95\n",
      "y=10.63*x + 5.83\n"
     ]
    },
    {
     "data": {
      "text/plain": [
       "[<matplotlib.lines.Line2D at 0x11575cba0b0>]"
      ]
     },
     "execution_count": 11,
     "metadata": {},
     "output_type": "execute_result"
    },
    {
     "data": {
      "text/plain": [
       "<Figure size 640x480 with 1 Axes>"
      ],
      "image/png": "[encoded data removed]"
     },
     "metadata": {},
     "output_type": "display_data"
    }
   ],
   "execution_count": 11
  },
  {
   "metadata": {
    "ExecuteTime": {
     "end_time": "2025-07-04T06:52:50.949645Z",
     "start_time": "2025-07-04T06:52:50.811394Z"
    }
   },
   "cell_type": "code",
   "source": [
    "### 更优化的随机梯度下降法Adam\n",
    "loss_list = []\n",
    "batch_size = 20\n",
    "learning_rate = 1\n",
    "model = Linear()\n",
    "optimizer = optim.AdamW(model.parameters(), lr=learning_rate)\n",
    "\n",
    "for t in range(20):\n",
    "    ix = (t * batch_size) % len(x)\n",
    "    xx = x[ix:ix + batch_size]\n",
    "    yy = y[ix:ix + batch_size]\n",
    "    yy_pred = model(xx)\n",
    "    # 定义损失\n",
    "    loss = (yy - yy_pred).pow(2).mean()\n",
    "    loss_list.append(loss.item())\n",
    "    # 在计算当前梯度的时候一定要将上一步梯度清空\n",
    "    optimizer.zero_grad()\n",
    "    # 计算梯度\n",
    "    loss.backward()\n",
    "    # 更新模型参数\n",
    "    optimizer.step()\n",
    "    print(model.string())\n",
    "\n",
    "plt.plot(loss_list)"
   ],
   "id": "65eab9bbc30f3ae9",
   "outputs": [
    {
     "name": "stdout",
     "output_type": "stream",
     "text": [
      "y=1.00*x + -1.00\n",
      "y=1.93*x + -1.95\n",
      "y=2.73*x + -2.79\n",
      "y=3.33*x + -3.39\n",
      "y=3.75*x + -3.71\n",
      "y=4.03*x + -3.75\n",
      "y=4.22*x + -3.53\n",
      "y=4.39*x + -3.13\n",
      "y=4.58*x + -2.59\n",
      "y=4.85*x + -1.93\n",
      "y=5.24*x + -1.20\n",
      "y=5.73*x + -0.41\n",
      "y=6.34*x + 0.42\n",
      "y=7.03*x + 1.28\n",
      "y=7.77*x + 2.14\n",
      "y=8.44*x + 2.92\n",
      "y=9.04*x + 3.61\n",
      "y=9.56*x + 4.22\n",
      "y=10.02*x + 4.79\n",
      "y=10.41*x + 5.29\n"
     ]
    },
    {
     "data": {
      "text/plain": [
       "[<matplotlib.lines.Line2D at 0x11575e8bac0>]"
      ]
     },
     "execution_count": 13,
     "metadata": {},
     "output_type": "execute_result"
    },
    {
     "data": {
      "text/plain": [
       "<Figure size 640x480 with 1 Axes>"
      ],
      "image/png": "[encoded data removed]"
     },
     "metadata": {},
     "output_type": "display_data"
    }
   ],
   "execution_count": 13
  },
  {
   "metadata": {
    "ExecuteTime": {
     "end_time": "2025-07-04T06:56:34.997555Z",
     "start_time": "2025-07-04T06:56:34.985618Z"
    }
   },
   "cell_type": "code",
   "source": [
    "#### 张量的基本操作\n",
    "print(torch.zeros(2, 3))"
   ],
   "id": "32445f066ef6f74f",
   "outputs": [
    {
     "name": "stdout",
     "output_type": "stream",
     "text": [
      "tensor([[0., 0., 0.],\n",
      "        [0., 0., 0.]])\n"
     ]
    }
   ],
   "execution_count": 15
  },
  {
   "metadata": {
    "ExecuteTime": {
     "end_time": "2025-07-04T06:56:52.485690Z",
     "start_time": "2025-07-04T06:56:52.449786Z"
    }
   },
   "cell_type": "code",
   "source": "print(torch.randn(4, 2))",
   "id": "21a5ea248339b19d",
   "outputs": [
    {
     "name": "stdout",
     "output_type": "stream",
     "text": [
      "tensor([[-0.0742,  0.0694],\n",
      "        [-2.0790, -0.4774],\n",
      "        [ 0.1129,  0.0147],\n",
      "        [-0.8202, -1.8692]])\n"
     ]
    }
   ],
   "execution_count": 16
  },
  {
   "metadata": {
    "ExecuteTime": {
     "end_time": "2025-07-04T06:57:26.116174Z",
     "start_time": "2025-07-04T06:57:26.102212Z"
    }
   },
   "cell_type": "code",
   "source": [
    "a = torch.randn(2, 3, 4)\n",
    "a.shape"
   ],
   "id": "5582b61a59b4d1dc",
   "outputs": [
    {
     "data": {
      "text/plain": [
       "torch.Size([2, 3, 4])"
      ]
     },
     "execution_count": 17,
     "metadata": {},
     "output_type": "execute_result"
    }
   ],
   "execution_count": 17
  },
  {
   "metadata": {
    "ExecuteTime": {
     "end_time": "2025-07-04T07:00:36.170455Z",
     "start_time": "2025-07-04T07:00:36.127570Z"
    }
   },
   "cell_type": "code",
   "source": "a.unsqueeze(0).shape",
   "id": "b1e8de65d616b11c",
   "outputs": [
    {
     "data": {
      "text/plain": [
       "torch.Size([1, 2, 3, 4])"
      ]
     },
     "execution_count": 18,
     "metadata": {},
     "output_type": "execute_result"
    }
   ],
   "execution_count": 18
  },
  {
   "metadata": {
    "ExecuteTime": {
     "end_time": "2025-07-04T07:01:44.911952Z",
     "start_time": "2025-07-04T07:01:44.898022Z"
    }
   },
   "cell_type": "code",
   "source": [
    "b = a.unsqueeze(0)\n",
    "b"
   ],
   "id": "f30b41f12a5cce5",
   "outputs": [
    {
     "data": {
      "text/plain": [
       "tensor([[[[ 0.2249, -0.0543, -0.0232, -0.1009],\n",
       "          [ 0.1448,  2.1733, -1.5689,  0.0620],\n",
       "          [ 1.5940,  0.4691,  0.8146,  0.4624]],\n",
       "\n",
       "         [[ 2.1187,  1.1555, -0.7440,  0.1301],\n",
       "          [ 0.2118,  1.5430, -0.4090,  0.0542],\n",
       "          [-1.0890,  1.1605, -0.9634,  0.9700]]]])"
      ]
     },
     "execution_count": 19,
     "metadata": {},
     "output_type": "execute_result"
    }
   ],
   "execution_count": 19
  },
  {
   "metadata": {
    "ExecuteTime": {
     "end_time": "2025-07-04T07:01:55.458762Z",
     "start_time": "2025-07-04T07:01:55.445826Z"
    }
   },
   "cell_type": "code",
   "source": "b.shape",
   "id": "13bc8430198db86e",
   "outputs": [
    {
     "data": {
      "text/plain": [
       "torch.Size([1, 2, 3, 4])"
      ]
     },
     "execution_count": 20,
     "metadata": {},
     "output_type": "execute_result"
    }
   ],
   "execution_count": 20
  },
  {
   "metadata": {
    "ExecuteTime": {
     "end_time": "2025-07-04T07:02:26.620612Z",
     "start_time": "2025-07-04T07:02:26.590693Z"
    }
   },
   "cell_type": "code",
   "source": "b.squeeze(0).shape",
   "id": "c12908bdbde2c9dc",
   "outputs": [
    {
     "data": {
      "text/plain": [
       "torch.Size([2, 3, 4])"
      ]
     },
     "execution_count": 21,
     "metadata": {},
     "output_type": "execute_result"
    }
   ],
   "execution_count": 21
  },
  {
   "metadata": {
    "ExecuteTime": {
     "end_time": "2025-07-04T07:03:28.766213Z",
     "start_time": "2025-07-04T07:03:28.752222Z"
    }
   },
   "cell_type": "code",
   "source": [
    "data = torch.tensor(range(10))\n",
    "data.shape"
   ],
   "id": "97b3f33f01594ffa",
   "outputs": [
    {
     "data": {
      "text/plain": [
       "torch.Size([10])"
      ]
     },
     "execution_count": 22,
     "metadata": {},
     "output_type": "execute_result"
    }
   ],
   "execution_count": 22
  },
  {
   "metadata": {
    "ExecuteTime": {
     "end_time": "2025-07-04T07:10:36.078083Z",
     "start_time": "2025-07-04T07:10:36.065117Z"
    }
   },
   "cell_type": "code",
   "source": [
    "a = torch.tensor(range(1, 7)).view(2, 3)\n",
    "b = torch.tensor(range(11, 17)).view(2, 3)\n",
    "a.shape, b.shape"
   ],
   "id": "a9d3a0316fa89d25",
   "outputs": [
    {
     "data": {
      "text/plain": [
       "(torch.Size([2, 3]), torch.Size([2, 3]))"
      ]
     },
     "execution_count": 23,
     "metadata": {},
     "output_type": "execute_result"
    }
   ],
   "execution_count": 23
  },
  {
   "metadata": {
    "ExecuteTime": {
     "end_time": "2025-07-04T07:10:47.634760Z",
     "start_time": "2025-07-04T07:10:47.597868Z"
    }
   },
   "cell_type": "code",
   "source": "a, b, a * b",
   "id": "d58441a6fcf3af67",
   "outputs": [
    {
     "data": {
      "text/plain": [
       "(tensor([[1, 2, 3],\n",
       "         [4, 5, 6]]),\n",
       " tensor([[11, 12, 13],\n",
       "         [14, 15, 16]]),\n",
       " tensor([[11, 24, 39],\n",
       "         [56, 75, 96]]))"
      ]
     },
     "execution_count": 24,
     "metadata": {},
     "output_type": "execute_result"
    }
   ],
   "execution_count": 24
  },
  {
   "metadata": {
    "ExecuteTime": {
     "end_time": "2025-07-04T07:11:58.393743Z",
     "start_time": "2025-07-04T07:11:58.379780Z"
    }
   },
   "cell_type": "code",
   "source": [
    "# 广播机制\n",
    "b=torch.tensor(range(1,4)).view(3)\n",
    "b.shape"
   ],
   "id": "5398a969525ef35c",
   "outputs": [
    {
     "data": {
      "text/plain": [
       "torch.Size([3])"
      ]
     },
     "execution_count": 25,
     "metadata": {},
     "output_type": "execute_result"
    }
   ],
   "execution_count": 25
  },
  {
   "metadata": {},
   "cell_type": "code",
   "outputs": [],
   "execution_count": null,
   "source": "",
   "id": "4f8cb774494854cd"
  }
 ],
 "metadata": {
  "kernelspec": {
   "display_name": "Python 3",
   "language": "python",
   "name": "python3"
  },
  "language_info": {
   "codemirror_mode": {
    "name": "ipython",
    "version": 2
   },
   "file_extension": ".py",
   "mimetype": "text/x-python",
   "name": "python",
   "nbconvert_exporter": "python",
   "pygments_lexer": "ipython2",
   "version": "2.7.6"
  }
 },
 "nbformat": 4,
 "nbformat_minor": 5
}
